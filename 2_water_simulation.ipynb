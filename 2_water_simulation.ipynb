{
 "cells": [
  {
   "cell_type": "markdown",
   "metadata": {},
   "source": [
    "# Case Study: Molecular Dynamics Simulations of Water\n",
    "\n",
    "Water, with its simple molecular structure, exhibits complex behavior and interactions due to the formation of hydrogen bonds. \n",
    "These interactions can be studied in detail at the atomic and molecular level through molecular dynamics (MD) simulations. \n",
    "In this case study, we employ the OpenMM software library to simulate a box of water molecules, tracking their movements and interactions over time.\n",
    "\n",
    "Starting with the input files (prmtop and inpcrd), we first define the conditions and parameters of our simulation environment. The system undergoes an equilibration phase under NPT (constant Number of particles, Pressure, and Temperature) conditions followed by a subsequent equilibration under NVT (constant Number of particles, Volume, and Temperature) conditions. Once the system is adequately equilibrated, a production run is performed, during which the trajectory of each water molecule is recorded for detailed analysis.\n",
    "\n",
    "Following the simulation, we analyze the radial distribution functions (RDFs) for the Oxygen-Oxygen (O-O) and Oxygen-Hydrogen (O-H) pairs, providing insights into the short-range order and hydrogen bonding patterns in the water box."
   ]
  },
  {
   "cell_type": "code",
   "execution_count": null,
   "metadata": {},
   "outputs": [],
   "source": [
    "import openmm as mm\n",
    "from openmm import app, unit, LangevinIntegrator, MonteCarloBarostat\n",
    "\n",
    "import nglview as nv\n",
    "\n",
    "import time"
   ]
  },
  {
   "cell_type": "code",
   "execution_count": null,
   "metadata": {},
   "outputs": [],
   "source": [
    "\n",
    "# Load the prmtop and inpcrd files\n",
    "prmtop = app.AmberPrmtopFile(\"water/water_box.prmtop\")\n",
    "inpcrd = app.AmberInpcrdFile(\"water/water_box.inpcrd\")\n",
    "\n",
    "# Specify the GPU platform\n",
    "try:\n",
    "    platform = mm.Platform.getPlatformByName('CUDA')\n",
    "    properties = {'CudaPrecision': 'mixed'} \n",
    "except mm.OpenMMException:\n",
    "    platform = mm.Platform.getPlatformByName('Reference')"
   ]
  },
  {
   "cell_type": "code",
   "execution_count": null,
   "metadata": {},
   "outputs": [],
   "source": [
    "# Create the system\n",
    "system = prmtop.createSystem(nonbondedMethod=app.PME, nonbondedCutoff=1.0*unit.nanometers, constraints=app.HBonds)\n",
    "\n",
    "start = time.time()\n",
    "\n",
    "# NPT equilibration\n",
    "temperature = 300 * unit.kelvin\n",
    "pressure = 1 * unit.atmosphere\n",
    "integratorNPT = LangevinIntegrator(temperature, 1.0/unit.picoseconds, 2.0*unit.femtoseconds)\n",
    "system.addForce(MonteCarloBarostat(pressure, temperature))\n",
    "simulationNPT = app.Simulation(prmtop.topology, system, integratorNPT)\n",
    "simulationNPT.context.setPositions(inpcrd.positions)\n",
    "\n",
    "if inpcrd.boxVectors is not None:\n",
    "    simulationNPT.context.setPeriodicBoxVectors(*inpcrd.boxVectors)\n",
    "\n",
    "simulationNPT.minimizeEnergy()\n",
    "simulationNPT.reporters.append(app.StateDataReporter(\"water/npt.log\", 1000, step=True, potentialEnergy=True, temperature=True, density=True))\n",
    "simulationNPT.step(50000)  # NPT equilibration for 100 ps\n",
    "end_npt = time.time()\n",
    "\n",
    "# Get final equilibration state\n",
    "state_eq = simulationNPT.context.getState(getPositions=True, getVelocities=True, enforcePeriodicBox=True)\n",
    "positions_eq = state_eq.getPositions()\n",
    "velocities_eq = state_eq.getVelocities()\n",
    "box_vectors_eq = state_eq.getPeriodicBoxVectors()\n"
   ]
  },
  {
   "cell_type": "code",
   "execution_count": null,
   "metadata": {},
   "outputs": [],
   "source": [
    "# Set up production run\n",
    "integratorProd = LangevinIntegrator(temperature, 1.0/unit.picoseconds, 2.0*unit.femtoseconds)\n",
    "simulationProd = app.Simulation(prmtop.topology, system, integratorProd)\n",
    "\n",
    "# Set positions and velocities to those from equilibration run\n",
    "simulationProd.context.setPositions(positions_eq)\n",
    "simulationProd.context.setVelocities(velocities_eq)\n",
    "\n",
    "# Set periodic box vectors to those from equilibration run\n",
    "simulationProd.context.setPeriodicBoxVectors(*box_vectors_eq)\n",
    "\n",
    "# Add simulation reporters\n",
    "simulationProd.reporters.append(app.DCDReporter(\"water/production.dcd\", 1000))  # Save trajectory\n",
    "simulationProd.reporters.append(app.StateDataReporter(\"water/production.log\", 1000, step=True, potentialEnergy=True, temperature=True, density=True))\n",
    "\n",
    "# Run production simulation\n",
    "simulationProd.step(500000) # Production run for 1 ns\n",
    "\n",
    "end_production = time.time()\n"
   ]
  },
  {
   "cell_type": "code",
   "execution_count": null,
   "metadata": {},
   "outputs": [],
   "source": [
    "# Print timings\n",
    "print(\"Simulation completed!\")\n",
    "print(f\"Total Time:{end_production - start}\" )\n",
    "print(f\"Equilibration 1: :{end_npt - start}\")\n",
    "print(f\"Production: {end_production - end_npt}\")"
   ]
  },
  {
   "cell_type": "markdown",
   "metadata": {},
   "source": [
    "## Visualization"
   ]
  },
  {
   "cell_type": "code",
   "execution_count": null,
   "metadata": {},
   "outputs": [],
   "source": [
    "import MDAnalysis as mda\n",
    "from MDAnalysis.analysis import rdf\n",
    "import matplotlib.pyplot as plt\n",
    "\n",
    "# Load the trajectory\n",
    "u = mda.Universe(\"water/water_box.prmtop\", \"water/production.dcd\")\n",
    "\n",
    "view = nv.show_mdanalysis(u)\n",
    "\n",
    "# Clear default representation\n",
    "view.clear_representations()\n",
    "\n",
    "# Add a new representation\n",
    "view.add_representation(\"ball+stick\")\n",
    "\n",
    "view.camera = \"orthographic\"\n",
    "view.center()\n",
    "\n",
    "view"
   ]
  },
  {
   "cell_type": "markdown",
   "metadata": {},
   "source": [
    "## Analysis\n",
    "\n",
    "Calculation of RDF for water system."
   ]
  },
  {
   "cell_type": "code",
   "execution_count": null,
   "metadata": {},
   "outputs": [],
   "source": [
    "\n",
    "# Define the atom groups for oxygen and hydrogen\n",
    "oxygen_atoms = u.select_atoms(\"element O\")  \n",
    "hydrogen_atoms = u.select_atoms(\"element H\") \n",
    "\n",
    "# Calculate the O-O RDF\n",
    "rdf_OO = rdf.InterRDF(oxygen_atoms, oxygen_atoms, range=(0.0, 10.0), bins=100, exclude_same=\"residue\")\n",
    "rdf_OO.run()\n",
    "                                                                                                                                                                                                \n",
    "# Calculate the O-H RDF\n",
    "rdf_OH = rdf.InterRDF(oxygen_atoms, hydrogen_atoms, range=(0.0, 10.0), bins=100, exclude_same=\"residue\")\n",
    "rdf_OH.run()\n",
    "\n",
    "\n"
   ]
  },
  {
   "cell_type": "code",
   "execution_count": null,
   "metadata": {},
   "outputs": [],
   "source": [
    "# Plotting\n",
    "plt.figure(figsize=(10, 4))\n",
    "\n",
    "# O-O RDF\n",
    "plt.subplot(1, 2, 1)\n",
    "plt.plot(rdf_OO.results.bins, rdf_OO.results.rdf)\n",
    "plt.title(\"O-O RDF\")\n",
    "plt.xlabel(\"Distance (Å)\")\n",
    "plt.ylabel(\"g(r)\")\n",
    "plt.grid(True)\n",
    "\n",
    "# O-H RDF\n",
    "plt.subplot(1, 2, 2)\n",
    "plt.plot(rdf_OH.results.bins, rdf_OH.results.rdf)\n",
    "plt.title(\"O-H RDF\")\n",
    "plt.xlabel(\"Distance (Å)\")\n",
    "plt.ylabel(\"g(r)\")\n",
    "plt.grid(True)\n",
    "\n",
    "plt.tight_layout()"
   ]
  },
  {
   "cell_type": "code",
   "execution_count": null,
   "metadata": {},
   "outputs": [],
   "source": []
  }
 ],
 "metadata": {
  "kernelspec": {
   "display_name": "chem274A_lab2",
   "language": "python",
   "name": "python3"
  },
  "language_info": {
   "codemirror_mode": {
    "name": "ipython",
    "version": 3
   },
   "file_extension": ".py",
   "mimetype": "text/x-python",
   "name": "python",
   "nbconvert_exporter": "python",
   "pygments_lexer": "ipython3",
   "version": "3.11.5"
  },
  "orig_nbformat": 4
 },
 "nbformat": 4,
 "nbformat_minor": 2
}
